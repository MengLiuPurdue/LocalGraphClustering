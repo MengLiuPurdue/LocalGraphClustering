{
 "cells": [
  {
   "cell_type": "markdown",
   "metadata": {},
   "source": [
    "# Import required packages"
   ]
  },
  {
   "cell_type": "code",
   "execution_count": 2,
   "metadata": {},
   "outputs": [],
   "source": [
    "import numpy as np\n",
    "import matplotlib.pyplot as plt\n",
    "from matplotlib.collections import LineCollection\n",
    "from collections import Counter\n",
    "import networkx as nx\n",
    "import community\n",
    "from itertools import permutations \n",
    "import matplotlib.ticker as mtick\n",
    "import matplotlib as mpl\n",
    "import matplotlib.cm as cm\n",
    "import pandas as pd\n",
    "from sklearn.decomposition import TruncatedSVD\n",
    "\n",
    "import sys\n",
    "sys.path.append(\"../../../LocalGraphClustering/\")\n",
    "import localgraphclustering as lgc"
   ]
  },
  {
   "cell_type": "markdown",
   "metadata": {},
   "source": [
    "# Load graph and global embedding coordinates"
   ]
  },
  {
   "cell_type": "code",
   "execution_count": null,
   "metadata": {},
   "outputs": [],
   "source": [
    "\"\"\"\n",
    "We refer readers to \"Lawlor, Budavári, and Mahoney (2016)\" to obtain the graph \n",
    "and the corresponding global coordinates.\n",
    "\"\"\"\n",
    "\n",
    "G = lgc.GraphLocal(\"galaxy.edgelist\",\"edgelist\")\n",
    "df = pd.read_table(\"galaxy.coords\",header=None)\n",
    "coords = df[[0,1]].values\n",
    "x,y = -1*coords[:,0],-1*coords[:,1]\n",
    "x *= 4\n",
    "y *= 10"
   ]
  },
  {
   "cell_type": "markdown",
   "metadata": {},
   "source": [
    "# Compute arrows in the direction flow figure"
   ]
  },
  {
   "cell_type": "markdown",
   "metadata": {},
   "source": [
    "## Sample centers"
   ]
  },
  {
   "cell_type": "code",
   "execution_count": null,
   "metadata": {},
   "outputs": [],
   "source": [
    "buckets = defaultdict(list)\n",
    "x_step_length,y_step_length = 0.0001,0.0001\n",
    "min_x,min_y = np.min(x),np.min(y)\n",
    "for i in range(len(coords)):\n",
    "    buckets[(int((x[i]-min_x)/x_step_length),int((y[i]-min_y)/y_step_length))].append(i)\n",
    "\n",
    "center_indices = []\n",
    "\n",
    "for key in buckets.keys():\n",
    "    idx = buckets[key][0]\n",
    "    center_indices.append(idx)"
   ]
  },
  {
   "cell_type": "markdown",
   "metadata": {},
   "source": [
    "## Expand each center to a set and run SimpleLocal or l1reg PageRank"
   ]
  },
  {
   "cell_type": "code",
   "execution_count": null,
   "metadata": {},
   "outputs": [],
   "source": [
    "\"\"\"\n",
    "arrow_tail_x,arrow_tail_y - the location of arrow tails\n",
    "flow_arrow_head_x,flow_arrow_head_y - the location of arrow heads from SimpleLocal\n",
    "spectral_arrow_head_x,spectral_arrow_head_y - the location of arrow heads from l1reg PageRank\n",
    "\"\"\"\n",
    "\n",
    "gnn,arrow_tail_x,arrow_tail_y = [],[],[]\n",
    "flow_arrow_head_x,flow_arrow_head_y,spectral_arrow_head_x,spectral_arrow_head_y = [],[],[],[]\n",
    "for center_id in center_indices:\n",
    "    radius_curr = 0.0005\n",
    "    neighs = []\n",
    "    for i in range(G._num_vertices):\n",
    "        if np.sqrt((x[i]-x[center_id])**2+(y[i]-y[center_id])**2) < radius_curr:\n",
    "            neighs.append(i)\n",
    "    while (len(neighs) < 20 or len(neighs) > 10000) and radius_curr < 0.001:\n",
    "        if len(neighs) < 20:\n",
    "            radius_curr *= 1.1\n",
    "        else:\n",
    "            radius_curr /= 1.1\n",
    "        neighs = []\n",
    "        for i in range(G._num_vertices):\n",
    "            if np.sqrt((x[i]-x[center_id])**2+(y[i]-y[center_id])**2) < radius_curr:\n",
    "                neighs.append(i)\n",
    "    if len(neighs) >= 20 and len(neighs) <= 10000:\n",
    "        arrow_tail_x.append(x[center_id])\n",
    "        arrow_tail_y.append(y[center_id])\n",
    "        gnn.append(neighs)\n",
    "\n",
    "for seeds in gnn:\n",
    "    if len(seeds) > 1000:\n",
    "        delta = 0.05\n",
    "    else:\n",
    "        delta = 0.005\n",
    "    flow_output = lgc.flow_clustering(G,seeds,method=\"sl_weighted\",delta=delta)[0]\n",
    "    flow_arrow_head_x.append(np.mean(x[flow_output]))\n",
    "    flow_arrow_head_y.append(np.mean(y[flow_output]))\n",
    "    spectral_output = lgc.spectral_clustering(G,seeds,method=\"l1reg-rand\",iterations=int(1.0e6))[0]\n",
    "    spectral_arrow_head_x.append(np.mean(x[spectral_output]))\n",
    "    spectral_arrow_head_y.append(np.mean(y[spectral_output]))"
   ]
  },
  {
   "cell_type": "markdown",
   "metadata": {},
   "source": [
    "# Compute local embedding"
   ]
  },
  {
   "cell_type": "markdown",
   "metadata": {},
   "source": [
    "## Select a region of interest"
   ]
  },
  {
   "cell_type": "code",
   "execution_count": null,
   "metadata": {},
   "outputs": [],
   "source": [
    "roi_indices = np.nonzero(x>0.0015)[0]"
   ]
  },
  {
   "cell_type": "markdown",
   "metadata": {},
   "source": [
    "## Repeatedly run SimpleLocal or l1reg PageRank on random sets inside this region"
   ]
  },
  {
   "cell_type": "code",
   "execution_count": null,
   "metadata": {},
   "outputs": [],
   "source": [
    "M_flow = np.zeros((G._num_vertices,500))\n",
    "M_spectral = np.zeros((G._num_vertices,500))\n",
    "\n",
    "for trial_id in range(500):\n",
    "    np.random.seed(trial_id)\n",
    "    selected_seed = np.random.choice(roi_indices,1)[0]\n",
    "    max_radius = 0.0001\n",
    "    min_radius = 0.0\n",
    "    iters = 0\n",
    "    while True:\n",
    "        iters += 1\n",
    "        neighs = []\n",
    "        radius_curr = (min_radius+max_radius)/2\n",
    "        for i in range(G._num_vertices):\n",
    "            if np.sqrt((x[i]-x[selected_seed])**2+(y[i]-y[selected_seed])**2) < radius_curr:\n",
    "                neighs.append(i)\n",
    "        if len(neighs) > 40000:\n",
    "            max_radius = radius_curr\n",
    "        elif len(neighs) < 5000:\n",
    "            min_radius = radius_curr\n",
    "        else:\n",
    "            break\n",
    "        if iters > 100:\n",
    "            min_radius = 0.0\n",
    "            max_radius = 0.0004\n",
    "            iters = 0\n",
    "    flow_output = lgc.flow_clustering(G,neighs,method=\"sl_weighted\",delta=0.1)[0]\n",
    "    M_flow[flow_output,trial_id] = 1\n",
    "    indices,vals = lgc.approximate_PageRank(G,neighs,method=\"l1reg-rand\",alpha=0.001,iterations=int(2e6),rho=1.0e-8)\n",
    "    M_spectral[indices,trial_id] = vals"
   ]
  },
  {
   "cell_type": "markdown",
   "metadata": {},
   "source": [
    "## Perform SVD to obtain the local embeddings"
   ]
  },
  {
   "cell_type": "code",
   "execution_count": null,
   "metadata": {},
   "outputs": [],
   "source": [
    "\"\"\"\n",
    "local_coords_flow - local embeddings from SimpleLocal\n",
    "local_coords_sepctral - local embeddings from l1reg PageRank\n",
    "\"\"\"\n",
    "\n",
    "svd = TruncatedSVD(n_components=2, random_state=42,n_iter=40)\n",
    "\n",
    "Mhat = np.hstack([M_flow,np.array([400*x,400*y]).T])\n",
    "svd.fit(Mhat)\n",
    "local_coords_flow = svd.transform(Mhat)\n",
    "\n",
    "Mhat = np.hstack([M_spectral,np.array([0.00002*x,0.00002*y]).T])\n",
    "svd.fit(Mhat)\n",
    "local_coords_spectral = svd.transform(Mhat)"
   ]
  }
 ],
 "metadata": {
  "kernelspec": {
   "display_name": "Python Image",
   "language": "python",
   "name": "python_image"
  },
  "language_info": {
   "codemirror_mode": {
    "name": "ipython",
    "version": 3
   },
   "file_extension": ".py",
   "mimetype": "text/x-python",
   "name": "python",
   "nbconvert_exporter": "python",
   "pygments_lexer": "ipython3",
   "version": "3.6.8"
  }
 },
 "nbformat": 4,
 "nbformat_minor": 2
}
